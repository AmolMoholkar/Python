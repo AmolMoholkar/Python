{
 "cells": [
  {
   "cell_type": "markdown",
   "metadata": {},
   "source": [
    "# Tuple\n",
    "\n",
    "A tuple is a collection of ordered and immutable objects. Tuples are similar to lists, just differe in its immutability and syntax. In Python tuples are written with comma seperated values inside round brackets. It may be empty or may contain single or multiple values. \n",
    "\n",
    "new_tuple = (\"Max\",)`\n",
    "\n",
    "##### Reasons to use a tuple over a list\n",
    "\n",
    "- Background data structure for tuple is array, so it supports slicing, indexing and It preseves oreder.\n",
    "- Used for paired objects.\n",
    "- Use tuple for heterogeneous (different) datatypes.\n",
    "- Since tuple are immutable, iteration on tuple is faster.\n",
    "- Tuples can be udsed as index in dictionary as it is immutable. This is not possible with lists.\n",
    "- It can be used for the storage of write-protected data.\n",
    "- Tuple can be a part of set, but list cant. "
   ]
  },
  {
   "cell_type": "markdown",
   "metadata": {},
   "source": [
    "##### Create a tuple\n",
    "\n",
    "Tuples are created with opening and clossing round brackets and comma separated values. Or use the built-in tuple function."
   ]
  },
  {
   "cell_type": "code",
   "execution_count": 1,
   "metadata": {},
   "outputs": [
    {
     "name": "stdout",
     "output_type": "stream",
     "text": [
      "()\n",
      "(2,)\n",
      "('Max', 28, 'New York')\n",
      "('Linda', 25, 'Miami')\n",
      "(1, 2, 3)\n"
     ]
    }
   ],
   "source": [
    "tuple_1 = tuple()                           # Empty tuple creation\n",
    "tuple_2 = (2,)                              # Tuple creation wiyh single value      \n",
    "tuple_3 = (\"Max\", 28, \"New York\")           # Tuple creation with hetrogeneous values\n",
    "tuple_4 = \"Linda\", 25, \"Miami\"              # Tuple creation without parentheses\n",
    "\n",
    "# Special case: a tuple with only one element needs to have a comma at the end, \n",
    "# otherwise it is recognized as number not a tuple. \n",
    "\n",
    "print(tuple_1)\n",
    "print(tuple_2)\n",
    "print(tuple_3)\n",
    "print(tuple_4)\n",
    "\n",
    "# Or convert an iterable (list, dict, string) to tuple using the built-in tuple function\n",
    "tuple_5 = tuple([1,2,3])\n",
    "print(tuple_5)"
   ]
  },
  {
   "cell_type": "markdown",
   "metadata": {},
   "source": [
    "##### Access elements\n",
    "As background data stucture of tuple is an array, it supports indexing and slicing. Tuple element is accssed using either positive or negative index."
   ]
  },
  {
   "cell_type": "code",
   "execution_count": 2,
   "metadata": {},
   "outputs": [
    {
     "name": "stdout",
     "output_type": "stream",
     "text": [
      "Max\n",
      "New York\n"
     ]
    }
   ],
   "source": [
    "item = tuple_3[0]\n",
    "print(item)\n",
    "# You can also use negative indexing, e.g -1 refers to the last element,\n",
    "# -2 to the second last element, and so on\n",
    "item = tuple_3[-1]\n",
    "print(item)"
   ]
  },
  {
   "cell_type": "markdown",
   "metadata": {},
   "source": [
    "##### Access Multiple Elements\n",
    "You can access multiple elements of tuple using slicing"
   ]
  },
  {
   "cell_type": "code",
   "execution_count": 3,
   "metadata": {},
   "outputs": [
    {
     "name": "stdout",
     "output_type": "stream",
     "text": [
      "(1, 2, 3, 4, 5, 6, 7, 8, 9, 10)\n",
      "(2, 3)\n",
      "(3, 4, 5, 6, 7, 8, 9, 10)\n",
      "(1, 2, 3)\n",
      "(1, 3, 5, 7, 9)\n",
      "(2, 4, 6, 8, 10)\n",
      "(9, 10)\n",
      "(10, 9, 8, 7, 6, 5, 4, 3, 2, 1)\n"
     ]
    }
   ],
   "source": [
    "# a[start:stop:step], default step is 1, both start, stop and step are optional\n",
    "\n",
    "a = (1, 2, 3, 4, 5, 6, 7, 8, 9, 10)\n",
    "\n",
    "b = a[::]\n",
    "print(b)\n",
    "b = a[1:3] # To access tuple elements at index 1 and 2\n",
    "print(b)\n",
    "b = a[2:] # To access all elements of tuple except first two\n",
    "print(b)\n",
    "b = a[:3] # To access elements up to index 3 from starting, index 3 is excluded\n",
    "print(b)\n",
    "b = a[::2] # To access all tuple elements at even index\n",
    "print(b)\n",
    "b = a[1::2] # To access all tuple elements at odd index\n",
    "print(b)\n",
    "b = a[-2:]      # To access last two elements of tuple using negative indexing\n",
    "print(b)\n",
    "b = a[::-1] # reverse tuple\n",
    "print(b)"
   ]
  },
  {
   "cell_type": "markdown",
   "metadata": {},
   "source": [
    "#### Add or change tuple elements\n",
    "As tuple is immutable we can't modify tuple, on try it will raise a TypeError."
   ]
  },
  {
   "cell_type": "code",
   "execution_count": 4,
   "metadata": {},
   "outputs": [
    {
     "ename": "TypeError",
     "evalue": "'tuple' object does not support item assignment",
     "output_type": "error",
     "traceback": [
      "\u001b[1;31m---------------------------------------------------------------------------\u001b[0m",
      "\u001b[1;31mTypeError\u001b[0m                                 Traceback (most recent call last)",
      "\u001b[1;32m<ipython-input-4-ecd4945188e9>\u001b[0m in \u001b[0;36m<module>\u001b[1;34m\u001b[0m\n\u001b[1;32m----> 1\u001b[1;33m \u001b[0mtuple_3\u001b[0m\u001b[1;33m[\u001b[0m\u001b[1;36m2\u001b[0m\u001b[1;33m]\u001b[0m \u001b[1;33m=\u001b[0m \u001b[1;34m\"Boston\"\u001b[0m\u001b[1;33m\u001b[0m\u001b[1;33m\u001b[0m\u001b[0m\n\u001b[0m",
      "\u001b[1;31mTypeError\u001b[0m: 'tuple' object does not support item assignment"
     ]
    }
   ],
   "source": [
    "tuple_3[2] = \"Boston\"  "
   ]
  },
  {
   "cell_type": "markdown",
   "metadata": {},
   "source": [
    "##### Delete a tuple\n",
    "To delete tuple use library function del"
   ]
  },
  {
   "cell_type": "code",
   "execution_count": 5,
   "metadata": {},
   "outputs": [
    {
     "ename": "NameError",
     "evalue": "name 'tuple_2' is not defined",
     "output_type": "error",
     "traceback": [
      "\u001b[1;31m---------------------------------------------------------------------------\u001b[0m",
      "\u001b[1;31mNameError\u001b[0m                                 Traceback (most recent call last)",
      "\u001b[1;32m<ipython-input-5-c8fc98c4810c>\u001b[0m in \u001b[0;36m<module>\u001b[1;34m\u001b[0m\n\u001b[0;32m      1\u001b[0m \u001b[1;32mdel\u001b[0m \u001b[0mtuple_2\u001b[0m\u001b[1;33m\u001b[0m\u001b[1;33m\u001b[0m\u001b[0m\n\u001b[1;32m----> 2\u001b[1;33m \u001b[0mtuple_2\u001b[0m        \u001b[1;31m# If we try to access tuple after deletion it will raise name error, as it is removed from memory\u001b[0m\u001b[1;33m\u001b[0m\u001b[1;33m\u001b[0m\u001b[0m\n\u001b[0m",
      "\u001b[1;31mNameError\u001b[0m: name 'tuple_2' is not defined"
     ]
    }
   ],
   "source": [
    "del tuple_2 \n",
    "tuple_2        # If we try to access tuple after deletion it will raise name error, as it is removed from memory "
   ]
  },
  {
   "cell_type": "markdown",
   "metadata": {},
   "source": [
    "##### Iterating\n",
    "Walk through "
   ]
  },
  {
   "cell_type": "code",
   "execution_count": 6,
   "metadata": {},
   "outputs": [
    {
     "name": "stdout",
     "output_type": "stream",
     "text": [
      "Max\n",
      "28\n",
      "New York\n"
     ]
    }
   ],
   "source": [
    "# Iterating over a tuple by using a for in loop\n",
    "for i in tuple_3:\n",
    "    print(i)"
   ]
  },
  {
   "cell_type": "markdown",
   "metadata": {},
   "source": [
    "##### Check existance of element in tuple\n",
    "To do so use membership operator in"
   ]
  },
  {
   "cell_type": "code",
   "execution_count": 7,
   "metadata": {},
   "outputs": [
    {
     "name": "stdout",
     "output_type": "stream",
     "text": [
      "yes\n"
     ]
    }
   ],
   "source": [
    "if \"New York\" in tuple_3:\n",
    "    print(\"yes\")\n",
    "else:\n",
    "    print(\"no\")"
   ]
  },
  {
   "cell_type": "markdown",
   "metadata": {},
   "source": [
    "##### Usefule methods of tuple"
   ]
  },
  {
   "cell_type": "code",
   "execution_count": 8,
   "metadata": {},
   "outputs": [
    {
     "name": "stdout",
     "output_type": "stream",
     "text": [
      "5\n",
      "2\n",
      "1\n",
      "('l', 'm', 'l', 'm', 'l', 'm', 'l', 'm', 'l', 'm', 'l', 'm')\n",
      "(1, 2, 3, 4, 5, 6)\n",
      "('a', 'b', 'c', 'd')\n",
      "['a', 'b', 'c', 'd']\n",
      "('H', 'e', 'l', 'l', 'o')\n"
     ]
    }
   ],
   "source": [
    "my_tuple = ('a','b','c','b','e',)\n",
    "\n",
    "# len() : bilt - in library function len to get the number of elements in a tuple\n",
    "print(len(my_tuple))\n",
    "\n",
    "# count(x) : Return the number of element occurrences. If element not present then return 0 \n",
    "print(my_tuple.count('b'))\n",
    "\n",
    "# index(x) : Return index of first occurrence of input element. If element not present then generate NameError \n",
    "print(my_tuple.index('b'))\n",
    "\n",
    "# It will generate tuple having repetition of given elements by specified number of times\n",
    "my_tuple = ('l', 'm') * 6      \n",
    "print(my_tuple)\n",
    "\n",
    "# To concatenate two or more tuples\n",
    "my_tuple = (1,2,3) + (4,5,6)\n",
    "print(my_tuple)\n",
    "\n",
    "# convert list to a tuple and vice versa\n",
    "my_list = ['a', 'b', 'c', 'd']\n",
    "list_to_tuple = tuple(my_list)\n",
    "print(list_to_tuple)\n",
    "\n",
    "tuple_to_list = list(list_to_tuple)\n",
    "print(tuple_to_list)\n",
    "\n",
    "# convert string to tuple\n",
    "string_to_tuple = tuple('Hello')\n",
    "print(string_to_tuple)"
   ]
  },
  {
   "cell_type": "markdown",
   "metadata": {},
   "source": [
    "##### Unpack tuple"
   ]
  },
  {
   "cell_type": "code",
   "execution_count": 9,
   "metadata": {},
   "outputs": [
    {
     "name": "stdout",
     "output_type": "stream",
     "text": [
      "Marry\n",
      "22\n",
      "New York\n",
      "0\n",
      "[1, 2, 3, 4]\n",
      "5\n",
      "0 1 2 3 4 5\n"
     ]
    }
   ],
   "source": [
    "# Number of variable names must match the number of tuple values  \n",
    "name, age, city = (\"Marry\", 22, \"New York\")\n",
    "print(name)\n",
    "print(age)\n",
    "print(city)\n",
    "\n",
    "# tip: To unpack multiple elements to a list with *\n",
    "my_tuple = (0, 1, 2, 3, 4, 5)\n",
    "item_first, *items_between, item_last = my_tuple\n",
    "print(item_first)\n",
    "print(items_between)\n",
    "print(item_last)\n",
    "\n",
    "a,b,c,d,e,f = (i for i in my_tuple)\n",
    "print(a,b,c,d,e,f)"
   ]
  },
  {
   "cell_type": "markdown",
   "metadata": {},
   "source": [
    "##### Nested tuples\n",
    "Tuples can contain other tuples."
   ]
  },
  {
   "cell_type": "code",
   "execution_count": 10,
   "metadata": {},
   "outputs": [
    {
     "name": "stdout",
     "output_type": "stream",
     "text": [
      "((0, 1), ('weight', 'height'))\n",
      "(0, 1)\n"
     ]
    }
   ],
   "source": [
    "a = ((0, 1), ('weight', 'height'))\n",
    "print(a)\n",
    "print(a[0])"
   ]
  },
  {
   "cell_type": "markdown",
   "metadata": {},
   "source": [
    "##### Way to access elements of tuple\n",
    "Tuple elements can be accessed using their index"
   ]
  },
  {
   "cell_type": "code",
   "execution_count": 11,
   "metadata": {},
   "outputs": [
    {
     "name": "stdout",
     "output_type": "stream",
     "text": [
      "((0, 1), ('weight', 'height'))\n",
      "(0, 1)\n",
      "0\n",
      "1\n"
     ]
    }
   ],
   "source": [
    "a = ((0, 1), ('weight', 'height'))\n",
    "\n",
    "print(a)        # To access tuple as whole\n",
    "print(a[0])     # To access first inner tuple\n",
    "print(a[0][0])  # To access first element of first inner tuple\n",
    "print(a[0][1])  # To access second element of first inner tuple"
   ]
  },
  {
   "cell_type": "markdown",
   "metadata": {},
   "source": [
    "##### Compare tuple and list\n",
    "As tuple is immutable its time complexity and space complexity both are less. Thus tuple is optimum as compared with list, especially while dealing with large data."
   ]
  },
  {
   "cell_type": "code",
   "execution_count": 12,
   "metadata": {},
   "outputs": [
    {
     "name": "stdout",
     "output_type": "stream",
     "text": [
      "96 bytes\n",
      "80 bytes\n",
      "0.11940979999999968\n",
      "0.015231100000001163\n"
     ]
    }
   ],
   "source": [
    "# Space complexity\n",
    "\n",
    "import sys\n",
    "\n",
    "my_list = [0, 1, 2, \"hello\", True]\n",
    "my_tuple = (0, 1, 2, \"hello\", True)\n",
    "\n",
    "print(sys.getsizeof(my_list), \"bytes\")\n",
    "print(sys.getsizeof(my_tuple), \"bytes\")\n",
    "\n",
    "# Time Complexity\n",
    "\n",
    "import timeit\n",
    "\n",
    "print(timeit.timeit(stmt=\"[0, 1, 2, 3, 4, 5]\", number=1000000))\n",
    "print(timeit.timeit(stmt=\"(0, 1, 2, 3, 4, 5)\", number=1000000))"
   ]
  }
 ],
 "metadata": {
  "kernelspec": {
   "display_name": "Python 3",
   "language": "python",
   "name": "python3"
  },
  "language_info": {
   "codemirror_mode": {
    "name": "ipython",
    "version": 3
   },
   "file_extension": ".py",
   "mimetype": "text/x-python",
   "name": "python",
   "nbconvert_exporter": "python",
   "pygments_lexer": "ipython3",
   "version": "3.8.8"
  }
 },
 "nbformat": 4,
 "nbformat_minor": 2
}
